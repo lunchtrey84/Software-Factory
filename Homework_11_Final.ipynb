{
 "cells": [
  {
   "cell_type": "markdown",
   "id": "b7489247",
   "metadata": {},
   "source": [
    "<h1 align=\"center\"> Homework 11 Programming Task (40 Points) </h1>\n",
    "<h3 align=\"center\"> IST 5520, Fall 2022 </h3>\n",
    "<h3 align=\"center\"> By: Charles Williams, Ben Bonsu </h3>\n",
    "<h3 align=\"center\"> Last Update: 12/5/2022 </h3>"
   ]
  },
  {
   "cell_type": "markdown",
   "id": "d5b24e90",
   "metadata": {},
   "source": [
    "## Data:\n",
    "\n",
    "This original data was collected via a survey on Amazon Mechanical Turk. The survey describes different driving scenarios including the destination, current time, weather, passenger, etc., and then asks the subject whether he will accept the coupon if he is the driver. The original data contains the following columns:\n",
    "\n",
    "- **destination:** No Urgent Place, Home, Work\n",
    "\n",
    "- **passenger:** Alone, Friend(s), Kid(s), Partner (who are the passengers in the car)\n",
    "\n",
    "- **weather:** Sunny, Rainy, Snowy\n",
    "\n",
    "- **temperature:** 55, 80, 30\n",
    "\n",
    "- **time:** 2PM, 10AM, 6PM, 7AM, 10PM\n",
    "\n",
    "- **coupon:** Restaurant (>20), Coffee House, Carry out & Take away, Bar, Restaurant($20-$50)\n",
    "\n",
    "- **expiration:** 1d, 2h (the coupon expires in 1 day or in 2 hours)\n",
    "\n",
    "- **gender:** Female, Male\n",
    "\n",
    "- **age:** 21, 46, 26, 31, 41, 50plus, 36, below21\n",
    "\n",
    "- **maritalStatus:** Unmarried partner, Single, Married partner, Divorced, Widowed\n",
    "\n",
    "- **has_Children:** 1, 0\n",
    "\n",
    "- **education:** Some college - no degree, Bachelors degree, Associates degree, High School Graduate, Graduate degree (Masters or Doctorate), Some High School\n",
    "\n",
    "- **occupation:** Unemployed, Architecture & Engineering, Student, Education&Training&Library, Healthcare Support, Healthcare Practitioners & Technical, Sales & Related, Management, Arts Design Entertainment Sports & Media, Computer & Mathematical, Life Physical Social Science, Personal Care & Service, Community & Social Services, Office & Administrative Support, Construction & Extraction, Legal, Retired, Installation Maintenance & Repair, Transportation & Material Moving, Business & Financial, Protective Service, Food Preparation & Serving Related, Production Occupations, Building & Grounds Cleaning & Maintenance, Farming Fishing & Forestry\n",
    "\n",
    "- **income:** 37500 - 49999, 62500 - 74999, 12500 - 24999, 75000 - 87499, 50000 - 62499, 25000 - 37499, 100000 or More, 87500 - 99999, Less than 12500\n",
    "\n",
    "- **Bar:** never, less1, 1-3, gt8, nan4-8 (feature meaning: how many times do you go to a bar every month?)\n",
    "\n",
    "- **CoffeeHouse:** never, less1, 4-8, 1-3, gt8, nan (feature meaning: how many times do you go to a coffeehouse every month?)\n",
    "\n",
    "- **CarryAway:** n4-8, 1-3, gt8, less1, never (feature meaning: how many times do you get take-away food every month?)\n",
    "\n",
    "- **RestaurantLessThan20:**  4-8, 1-3, less1, gt8, never (feature meaning: how many times do you go to a restaurant with an average expense per person of less than 20 every month?)\n",
    "\n",
    "- **Restaurant20To50:** 1-3, less1, never, gt8, 4-8, nan (feature meaning: how many times do you go to a restaurant with average expense per person of 20 - 50 every month?)\n",
    "\n",
    "- **toCoupon_GEQ15min:** 0,1 (feature meaning: driving distance to the restaurant/bar for using the coupon is greater than 15 minutes)\n",
    "\n",
    "- **toCoupon_GEQ25min:** 0, 1 (feature meaning: driving distance to the restaurant/bar for using the coupon is greater than 25 minutes)\n",
    "\n",
    "- **direction_same:** 0, 1 (feature meaning: whether the restaurant/bar is in the same direction as your current destination)\n",
    "\n",
    "- **direction_opp:** 1, 0 (feature meaning: whether the restaurant/bar is in the same direction as your current destination)\n",
    "\n",
    "- **accept:** 1, 0 (whether the coupon is accepted)\n",
    "\n",
    "In the current dataset, all categorical variables have been converted into dummies. The “train_data.csv” contains 3426 observations that are used to train classification models. The “test_data.csv” contains a dataset of 8456 observations that are used to evaluate the performance of classification models. The test dataset has the same data structure as the training dataset.\n"
   ]
  },
  {
   "cell_type": "markdown",
   "id": "0737e705",
   "metadata": {},
   "source": [
    "## Contributions\n",
    "\n",
    "### Charles Williams\n",
    "\n",
    "Wrote and tested the code\n",
    "\n",
    "### Ben Bonsu\n",
    "\n",
    "Did the labeling and the report"
   ]
  },
  {
   "cell_type": "markdown",
   "id": "e9febf77",
   "metadata": {},
   "source": [
    "## Data Transformation\n",
    "\n",
    "Conducted a PCA analysis of the data and found that there were 2 principle components with a variance of 99.07.\n",
    "\n",
    "\n",
    "Ran multiple Random Forest Analysis, Extra\n"
   ]
  },
  {
   "cell_type": "code",
   "execution_count": 1,
   "id": "818320aa",
   "metadata": {},
   "outputs": [],
   "source": [
    "import pandas as pd\n",
    "import numpy as np\n",
    "import statsmodels.api as sm\n",
    "import matplotlib.pyplot as plt\n",
    "import seaborn as sns\n",
    "import itertools\n",
    "from sklearn.linear_model import LogisticRegression\n",
    "from sklearn.model_selection import train_test_split\n",
    "from sklearn import preprocessing\n",
    "from sklearn.preprocessing import MinMaxScaler\n",
    "from sklearn.preprocessing import MaxAbsScaler\n",
    "%matplotlib inline\n",
    "from sklearn.ensemble import RandomForestClassifier\n",
    "from sklearn.model_selection import GridSearchCV\n",
    "from sklearn.preprocessing import OneHotEncoder\n",
    "from sklearn import preprocessing\n",
    "from sklearn.ensemble import RandomForestRegressor\n",
    "from sklearn.neighbors import KNeighborsRegressor\n",
    "from sklearn.metrics import mean_squared_error\n",
    "from sklearn import metrics\n",
    "from math import sqrt\n",
    "from sklearn import neighbors\n",
    "from sklearn.decomposition import PCA\n",
    "from sklearn import tree\n",
    "from IPython.display import Image\n",
    "from sklearn.model_selection import GridSearchCV\n",
    "from sklearn.ensemble import ExtraTreesClassifier\n",
    "from sklearn.datasets import load_iris\n",
    "from sklearn.feature_selection import SelectFromModel\n",
    "import time\n",
    "from joblib import parallel_backend\n",
    "from multiprocessing import Pool\n",
    "from sklearn import neural_network\n",
    "from sklearn import metrics"
   ]
  },
  {
   "cell_type": "code",
   "execution_count": 2,
   "id": "876568cf",
   "metadata": {},
   "outputs": [
    {
     "data": {
      "text/html": [
       "<div>\n",
       "<style scoped>\n",
       "    .dataframe tbody tr th:only-of-type {\n",
       "        vertical-align: middle;\n",
       "    }\n",
       "\n",
       "    .dataframe tbody tr th {\n",
       "        vertical-align: top;\n",
       "    }\n",
       "\n",
       "    .dataframe thead th {\n",
       "        text-align: right;\n",
       "    }\n",
       "</style>\n",
       "<table border=\"1\" class=\"dataframe\">\n",
       "  <thead>\n",
       "    <tr style=\"text-align: right;\">\n",
       "      <th></th>\n",
       "      <th>destination_Home</th>\n",
       "      <th>destination_No Urgent Place</th>\n",
       "      <th>destination_Work</th>\n",
       "      <th>passenger_Alone</th>\n",
       "      <th>passenger_Friend(s)</th>\n",
       "      <th>passenger_Kid(s)</th>\n",
       "      <th>passenger_Partner</th>\n",
       "      <th>weather_Rainy</th>\n",
       "      <th>weather_Snowy</th>\n",
       "      <th>weather_Sunny</th>\n",
       "      <th>...</th>\n",
       "      <th>Restaurant20To50_4~8</th>\n",
       "      <th>Restaurant20To50_gt8</th>\n",
       "      <th>Restaurant20To50_less1</th>\n",
       "      <th>Restaurant20To50_never</th>\n",
       "      <th>toCoupon_GEQ5min</th>\n",
       "      <th>toCoupon_GEQ15min</th>\n",
       "      <th>toCoupon_GEQ25min</th>\n",
       "      <th>direction_same</th>\n",
       "      <th>direction_opp</th>\n",
       "      <th>accept</th>\n",
       "    </tr>\n",
       "  </thead>\n",
       "  <tbody>\n",
       "    <tr>\n",
       "      <th>0</th>\n",
       "      <td>0</td>\n",
       "      <td>1</td>\n",
       "      <td>0</td>\n",
       "      <td>1</td>\n",
       "      <td>0</td>\n",
       "      <td>0</td>\n",
       "      <td>0</td>\n",
       "      <td>0</td>\n",
       "      <td>0</td>\n",
       "      <td>1</td>\n",
       "      <td>...</td>\n",
       "      <td>0</td>\n",
       "      <td>0</td>\n",
       "      <td>0</td>\n",
       "      <td>0</td>\n",
       "      <td>1</td>\n",
       "      <td>1</td>\n",
       "      <td>0</td>\n",
       "      <td>0</td>\n",
       "      <td>1</td>\n",
       "      <td>0</td>\n",
       "    </tr>\n",
       "    <tr>\n",
       "      <th>1</th>\n",
       "      <td>0</td>\n",
       "      <td>1</td>\n",
       "      <td>0</td>\n",
       "      <td>0</td>\n",
       "      <td>0</td>\n",
       "      <td>0</td>\n",
       "      <td>1</td>\n",
       "      <td>0</td>\n",
       "      <td>0</td>\n",
       "      <td>1</td>\n",
       "      <td>...</td>\n",
       "      <td>0</td>\n",
       "      <td>0</td>\n",
       "      <td>1</td>\n",
       "      <td>0</td>\n",
       "      <td>1</td>\n",
       "      <td>0</td>\n",
       "      <td>0</td>\n",
       "      <td>0</td>\n",
       "      <td>1</td>\n",
       "      <td>0</td>\n",
       "    </tr>\n",
       "    <tr>\n",
       "      <th>2</th>\n",
       "      <td>0</td>\n",
       "      <td>0</td>\n",
       "      <td>1</td>\n",
       "      <td>1</td>\n",
       "      <td>0</td>\n",
       "      <td>0</td>\n",
       "      <td>0</td>\n",
       "      <td>0</td>\n",
       "      <td>1</td>\n",
       "      <td>0</td>\n",
       "      <td>...</td>\n",
       "      <td>0</td>\n",
       "      <td>0</td>\n",
       "      <td>0</td>\n",
       "      <td>0</td>\n",
       "      <td>1</td>\n",
       "      <td>1</td>\n",
       "      <td>1</td>\n",
       "      <td>0</td>\n",
       "      <td>1</td>\n",
       "      <td>1</td>\n",
       "    </tr>\n",
       "    <tr>\n",
       "      <th>3</th>\n",
       "      <td>0</td>\n",
       "      <td>1</td>\n",
       "      <td>0</td>\n",
       "      <td>0</td>\n",
       "      <td>1</td>\n",
       "      <td>0</td>\n",
       "      <td>0</td>\n",
       "      <td>0</td>\n",
       "      <td>0</td>\n",
       "      <td>1</td>\n",
       "      <td>...</td>\n",
       "      <td>0</td>\n",
       "      <td>0</td>\n",
       "      <td>1</td>\n",
       "      <td>0</td>\n",
       "      <td>1</td>\n",
       "      <td>1</td>\n",
       "      <td>0</td>\n",
       "      <td>0</td>\n",
       "      <td>1</td>\n",
       "      <td>1</td>\n",
       "    </tr>\n",
       "    <tr>\n",
       "      <th>4</th>\n",
       "      <td>1</td>\n",
       "      <td>0</td>\n",
       "      <td>0</td>\n",
       "      <td>1</td>\n",
       "      <td>0</td>\n",
       "      <td>0</td>\n",
       "      <td>0</td>\n",
       "      <td>0</td>\n",
       "      <td>1</td>\n",
       "      <td>0</td>\n",
       "      <td>...</td>\n",
       "      <td>1</td>\n",
       "      <td>0</td>\n",
       "      <td>0</td>\n",
       "      <td>0</td>\n",
       "      <td>1</td>\n",
       "      <td>1</td>\n",
       "      <td>1</td>\n",
       "      <td>0</td>\n",
       "      <td>1</td>\n",
       "      <td>1</td>\n",
       "    </tr>\n",
       "  </tbody>\n",
       "</table>\n",
       "<p>5 rows × 110 columns</p>\n",
       "</div>"
      ],
      "text/plain": [
       "   destination_Home  destination_No Urgent Place  destination_Work  \\\n",
       "0                 0                            1                 0   \n",
       "1                 0                            1                 0   \n",
       "2                 0                            0                 1   \n",
       "3                 0                            1                 0   \n",
       "4                 1                            0                 0   \n",
       "\n",
       "   passenger_Alone  passenger_Friend(s)  passenger_Kid(s)  passenger_Partner  \\\n",
       "0                1                    0                 0                  0   \n",
       "1                0                    0                 0                  1   \n",
       "2                1                    0                 0                  0   \n",
       "3                0                    1                 0                  0   \n",
       "4                1                    0                 0                  0   \n",
       "\n",
       "   weather_Rainy  weather_Snowy  weather_Sunny  ...  Restaurant20To50_4~8  \\\n",
       "0              0              0              1  ...                     0   \n",
       "1              0              0              1  ...                     0   \n",
       "2              0              1              0  ...                     0   \n",
       "3              0              0              1  ...                     0   \n",
       "4              0              1              0  ...                     1   \n",
       "\n",
       "   Restaurant20To50_gt8  Restaurant20To50_less1  Restaurant20To50_never  \\\n",
       "0                     0                       0                       0   \n",
       "1                     0                       1                       0   \n",
       "2                     0                       0                       0   \n",
       "3                     0                       1                       0   \n",
       "4                     0                       0                       0   \n",
       "\n",
       "   toCoupon_GEQ5min  toCoupon_GEQ15min  toCoupon_GEQ25min  direction_same  \\\n",
       "0                 1                  1                  0               0   \n",
       "1                 1                  0                  0               0   \n",
       "2                 1                  1                  1               0   \n",
       "3                 1                  1                  0               0   \n",
       "4                 1                  1                  1               0   \n",
       "\n",
       "   direction_opp  accept  \n",
       "0              1       0  \n",
       "1              1       0  \n",
       "2              1       1  \n",
       "3              1       1  \n",
       "4              1       1  \n",
       "\n",
       "[5 rows x 110 columns]"
      ]
     },
     "execution_count": 2,
     "metadata": {},
     "output_type": "execute_result"
    }
   ],
   "source": [
    "df = pd.read_csv('train_data.csv')\n",
    "df_test = pd.read_csv('test_data.csv')\n",
    "df.head()"
   ]
  },
  {
   "cell_type": "code",
   "execution_count": 3,
   "id": "9aa13497",
   "metadata": {},
   "outputs": [
    {
     "data": {
      "text/html": [
       "<div>\n",
       "<style scoped>\n",
       "    .dataframe tbody tr th:only-of-type {\n",
       "        vertical-align: middle;\n",
       "    }\n",
       "\n",
       "    .dataframe tbody tr th {\n",
       "        vertical-align: top;\n",
       "    }\n",
       "\n",
       "    .dataframe thead th {\n",
       "        text-align: right;\n",
       "    }\n",
       "</style>\n",
       "<table border=\"1\" class=\"dataframe\">\n",
       "  <thead>\n",
       "    <tr style=\"text-align: right;\">\n",
       "      <th></th>\n",
       "      <th>PC1</th>\n",
       "      <th>PC2</th>\n",
       "      <th>PC3</th>\n",
       "      <th>PC4</th>\n",
       "      <th>PC5</th>\n",
       "      <th>PC6</th>\n",
       "      <th>PC7</th>\n",
       "      <th>PC8</th>\n",
       "      <th>PC9</th>\n",
       "      <th>PC10</th>\n",
       "      <th>...</th>\n",
       "      <th>PC21</th>\n",
       "      <th>PC22</th>\n",
       "      <th>PC23</th>\n",
       "      <th>PC24</th>\n",
       "      <th>PC25</th>\n",
       "      <th>PC26</th>\n",
       "      <th>PC27</th>\n",
       "      <th>PC28</th>\n",
       "      <th>PC29</th>\n",
       "      <th>PC30</th>\n",
       "    </tr>\n",
       "  </thead>\n",
       "  <tbody>\n",
       "    <tr>\n",
       "      <th>0</th>\n",
       "      <td>-16.805054</td>\n",
       "      <td>-0.544304</td>\n",
       "      <td>-1.086182</td>\n",
       "      <td>0.199162</td>\n",
       "      <td>-0.777516</td>\n",
       "      <td>0.403503</td>\n",
       "      <td>-0.022096</td>\n",
       "      <td>-0.918231</td>\n",
       "      <td>-0.709833</td>\n",
       "      <td>-1.083481</td>\n",
       "      <td>...</td>\n",
       "      <td>0.612133</td>\n",
       "      <td>-0.552706</td>\n",
       "      <td>-0.204455</td>\n",
       "      <td>-0.594203</td>\n",
       "      <td>-0.207193</td>\n",
       "      <td>-0.453516</td>\n",
       "      <td>0.614751</td>\n",
       "      <td>0.183558</td>\n",
       "      <td>-0.105931</td>\n",
       "      <td>-0.008045</td>\n",
       "    </tr>\n",
       "    <tr>\n",
       "      <th>1</th>\n",
       "      <td>-16.806423</td>\n",
       "      <td>-0.646768</td>\n",
       "      <td>0.543139</td>\n",
       "      <td>0.787494</td>\n",
       "      <td>-0.161418</td>\n",
       "      <td>0.421801</td>\n",
       "      <td>0.089372</td>\n",
       "      <td>1.575109</td>\n",
       "      <td>-0.331275</td>\n",
       "      <td>0.441491</td>\n",
       "      <td>...</td>\n",
       "      <td>0.435853</td>\n",
       "      <td>0.086740</td>\n",
       "      <td>0.493329</td>\n",
       "      <td>-0.181072</td>\n",
       "      <td>0.050195</td>\n",
       "      <td>-0.212584</td>\n",
       "      <td>-0.157759</td>\n",
       "      <td>0.288856</td>\n",
       "      <td>-0.472273</td>\n",
       "      <td>0.459548</td>\n",
       "    </tr>\n",
       "    <tr>\n",
       "      <th>2</th>\n",
       "      <td>33.233390</td>\n",
       "      <td>0.619990</td>\n",
       "      <td>0.193590</td>\n",
       "      <td>-0.359768</td>\n",
       "      <td>0.868199</td>\n",
       "      <td>1.279977</td>\n",
       "      <td>-0.104412</td>\n",
       "      <td>-0.734148</td>\n",
       "      <td>0.852296</td>\n",
       "      <td>0.659990</td>\n",
       "      <td>...</td>\n",
       "      <td>-0.135611</td>\n",
       "      <td>-0.278143</td>\n",
       "      <td>0.086760</td>\n",
       "      <td>-0.102776</td>\n",
       "      <td>0.336664</td>\n",
       "      <td>0.393491</td>\n",
       "      <td>0.674677</td>\n",
       "      <td>0.465093</td>\n",
       "      <td>0.272066</td>\n",
       "      <td>-0.057449</td>\n",
       "    </tr>\n",
       "    <tr>\n",
       "      <th>3</th>\n",
       "      <td>8.203866</td>\n",
       "      <td>-1.386611</td>\n",
       "      <td>-0.811468</td>\n",
       "      <td>-0.877305</td>\n",
       "      <td>0.435545</td>\n",
       "      <td>0.066169</td>\n",
       "      <td>-0.122594</td>\n",
       "      <td>0.402906</td>\n",
       "      <td>1.175931</td>\n",
       "      <td>0.297302</td>\n",
       "      <td>...</td>\n",
       "      <td>-0.506299</td>\n",
       "      <td>0.146774</td>\n",
       "      <td>0.285095</td>\n",
       "      <td>0.721311</td>\n",
       "      <td>-0.065650</td>\n",
       "      <td>-0.004040</td>\n",
       "      <td>-0.620088</td>\n",
       "      <td>-0.068645</td>\n",
       "      <td>-0.188203</td>\n",
       "      <td>-0.348044</td>\n",
       "    </tr>\n",
       "    <tr>\n",
       "      <th>4</th>\n",
       "      <td>33.232381</td>\n",
       "      <td>0.485084</td>\n",
       "      <td>1.150640</td>\n",
       "      <td>0.186390</td>\n",
       "      <td>0.788675</td>\n",
       "      <td>-0.577926</td>\n",
       "      <td>1.025631</td>\n",
       "      <td>0.167765</td>\n",
       "      <td>-0.747450</td>\n",
       "      <td>0.102300</td>\n",
       "      <td>...</td>\n",
       "      <td>-0.301605</td>\n",
       "      <td>-0.168205</td>\n",
       "      <td>-0.800510</td>\n",
       "      <td>0.289314</td>\n",
       "      <td>-0.038142</td>\n",
       "      <td>-0.300375</td>\n",
       "      <td>0.449382</td>\n",
       "      <td>0.704299</td>\n",
       "      <td>-0.060437</td>\n",
       "      <td>-0.392050</td>\n",
       "    </tr>\n",
       "  </tbody>\n",
       "</table>\n",
       "<p>5 rows × 30 columns</p>\n",
       "</div>"
      ],
      "text/plain": [
       "         PC1       PC2       PC3       PC4       PC5       PC6       PC7  \\\n",
       "0 -16.805054 -0.544304 -1.086182  0.199162 -0.777516  0.403503 -0.022096   \n",
       "1 -16.806423 -0.646768  0.543139  0.787494 -0.161418  0.421801  0.089372   \n",
       "2  33.233390  0.619990  0.193590 -0.359768  0.868199  1.279977 -0.104412   \n",
       "3   8.203866 -1.386611 -0.811468 -0.877305  0.435545  0.066169 -0.122594   \n",
       "4  33.232381  0.485084  1.150640  0.186390  0.788675 -0.577926  1.025631   \n",
       "\n",
       "        PC8       PC9      PC10  ...      PC21      PC22      PC23      PC24  \\\n",
       "0 -0.918231 -0.709833 -1.083481  ...  0.612133 -0.552706 -0.204455 -0.594203   \n",
       "1  1.575109 -0.331275  0.441491  ...  0.435853  0.086740  0.493329 -0.181072   \n",
       "2 -0.734148  0.852296  0.659990  ... -0.135611 -0.278143  0.086760 -0.102776   \n",
       "3  0.402906  1.175931  0.297302  ... -0.506299  0.146774  0.285095  0.721311   \n",
       "4  0.167765 -0.747450  0.102300  ... -0.301605 -0.168205 -0.800510  0.289314   \n",
       "\n",
       "       PC25      PC26      PC27      PC28      PC29      PC30  \n",
       "0 -0.207193 -0.453516  0.614751  0.183558 -0.105931 -0.008045  \n",
       "1  0.050195 -0.212584 -0.157759  0.288856 -0.472273  0.459548  \n",
       "2  0.336664  0.393491  0.674677  0.465093  0.272066 -0.057449  \n",
       "3 -0.065650 -0.004040 -0.620088 -0.068645 -0.188203 -0.348044  \n",
       "4 -0.038142 -0.300375  0.449382  0.704299 -0.060437 -0.392050  \n",
       "\n",
       "[5 rows x 30 columns]"
      ]
     },
     "execution_count": 3,
     "metadata": {},
     "output_type": "execute_result"
    }
   ],
   "source": [
    "pca30 = PCA(n_components=30)\n",
    "pca30.fit(df)\n",
    "data_pca30 = pca30.fit_transform(df)\n",
    "\n",
    "# Convert the numpy array to pandas DataFrame\n",
    "data_pca30 = pd.DataFrame(data_pca30)\n",
    "# data_pca30.index = df.name\n",
    "data_pca30.columns = [\"PC\"+str(i) for i in range(1,31)]\n",
    "\n",
    "# Show the head of the DataFrame\n",
    "data_pca30.head()"
   ]
  },
  {
   "cell_type": "code",
   "execution_count": 4,
   "id": "82ba34b1",
   "metadata": {},
   "outputs": [],
   "source": [
    "# 25-75% simple split\n",
    "# To make the result reproducible, set the random_state\n",
    "\n",
    "X = df.drop('accept', axis=1)\n",
    "\n",
    "y = df['accept'].copy()\n",
    "\n",
    "train_y,test_y,train_X,test_X = train_test_split(y, X,\n",
    "                                                 test_size=0.25,\n",
    "                                                 random_state=123)\n",
    "scaler = preprocessing.MinMaxScaler().fit(train_X)\n",
    "X_train_scaled = pd.DataFrame(scaler.transform(train_X),columns=train_X.columns)\n",
    "X_test_scaled = pd.DataFrame(scaler.transform(test_X),columns=train_X.columns)\n",
    "train_scale_y = preprocessing.MinMaxScaler().fit(train_y.values.reshape(-1,1).astype(float))\n",
    "train_y_scale = train_scale_y.transform(train_y.values.reshape(-1,1))\n",
    "train_y_scale = pd.Series(train_y_scale.reshape(train_y.shape[0],))\n",
    "test_y_scale = train_scale_y.transform(test_y.values.reshape(-1,1))\n",
    "test_y_scale = pd.Series(test_y_scale.reshape(test_y.shape[0],))"
   ]
  },
  {
   "cell_type": "code",
   "execution_count": 5,
   "id": "567f31e7",
   "metadata": {},
   "outputs": [],
   "source": [
    "pca30.fit(X_train_scaled)\n",
    "\n",
    "pca = PCA(n_components=30)\n",
    "pca = preprocessing.MinMaxScaler().fit(X_train_scaled)\n",
    "X_train_scaled_pca = pd.DataFrame(pca.transform(X_train_scaled),columns=X_train_scaled.columns)\n",
    "X_test_scaled_pca = pd.DataFrame(pca.transform(X_test_scaled),columns=X_train_scaled.columns)"
   ]
  },
  {
   "cell_type": "code",
   "execution_count": 6,
   "id": "d759a543",
   "metadata": {},
   "outputs": [
    {
     "data": {
      "text/plain": [
       "(2717, 109)"
      ]
     },
     "execution_count": 6,
     "metadata": {},
     "output_type": "execute_result"
    }
   ],
   "source": [
    "X_train_scaled_pca.shape"
   ]
  },
  {
   "cell_type": "code",
   "execution_count": 7,
   "id": "006ecef4",
   "metadata": {},
   "outputs": [
    {
     "data": {
      "text/plain": [
       "(906, 109)"
      ]
     },
     "execution_count": 7,
     "metadata": {},
     "output_type": "execute_result"
    }
   ],
   "source": [
    "X_test_scaled_pca.shape"
   ]
  },
  {
   "cell_type": "code",
   "execution_count": 8,
   "id": "e2323144",
   "metadata": {},
   "outputs": [
    {
     "data": {
      "text/plain": [
       "(2717,)"
      ]
     },
     "execution_count": 8,
     "metadata": {},
     "output_type": "execute_result"
    }
   ],
   "source": [
    "train_y_scale.shape"
   ]
  },
  {
   "cell_type": "code",
   "execution_count": 9,
   "id": "ea268f48",
   "metadata": {},
   "outputs": [
    {
     "data": {
      "text/plain": [
       "(906,)"
      ]
     },
     "execution_count": 9,
     "metadata": {},
     "output_type": "execute_result"
    }
   ],
   "source": [
    "test_y_scale.shape"
   ]
  },
  {
   "cell_type": "markdown",
   "id": "5d9b9161",
   "metadata": {},
   "source": [
    "## Train"
   ]
  },
  {
   "cell_type": "code",
   "execution_count": 10,
   "id": "df2c80f2",
   "metadata": {},
   "outputs": [
    {
     "data": {
      "text/html": [
       "<style>#sk-container-id-1 {color: black;background-color: white;}#sk-container-id-1 pre{padding: 0;}#sk-container-id-1 div.sk-toggleable {background-color: white;}#sk-container-id-1 label.sk-toggleable__label {cursor: pointer;display: block;width: 100%;margin-bottom: 0;padding: 0.3em;box-sizing: border-box;text-align: center;}#sk-container-id-1 label.sk-toggleable__label-arrow:before {content: \"▸\";float: left;margin-right: 0.25em;color: #696969;}#sk-container-id-1 label.sk-toggleable__label-arrow:hover:before {color: black;}#sk-container-id-1 div.sk-estimator:hover label.sk-toggleable__label-arrow:before {color: black;}#sk-container-id-1 div.sk-toggleable__content {max-height: 0;max-width: 0;overflow: hidden;text-align: left;background-color: #f0f8ff;}#sk-container-id-1 div.sk-toggleable__content pre {margin: 0.2em;color: black;border-radius: 0.25em;background-color: #f0f8ff;}#sk-container-id-1 input.sk-toggleable__control:checked~div.sk-toggleable__content {max-height: 200px;max-width: 100%;overflow: auto;}#sk-container-id-1 input.sk-toggleable__control:checked~label.sk-toggleable__label-arrow:before {content: \"▾\";}#sk-container-id-1 div.sk-estimator input.sk-toggleable__control:checked~label.sk-toggleable__label {background-color: #d4ebff;}#sk-container-id-1 div.sk-label input.sk-toggleable__control:checked~label.sk-toggleable__label {background-color: #d4ebff;}#sk-container-id-1 input.sk-hidden--visually {border: 0;clip: rect(1px 1px 1px 1px);clip: rect(1px, 1px, 1px, 1px);height: 1px;margin: -1px;overflow: hidden;padding: 0;position: absolute;width: 1px;}#sk-container-id-1 div.sk-estimator {font-family: monospace;background-color: #f0f8ff;border: 1px dotted black;border-radius: 0.25em;box-sizing: border-box;margin-bottom: 0.5em;}#sk-container-id-1 div.sk-estimator:hover {background-color: #d4ebff;}#sk-container-id-1 div.sk-parallel-item::after {content: \"\";width: 100%;border-bottom: 1px solid gray;flex-grow: 1;}#sk-container-id-1 div.sk-label:hover label.sk-toggleable__label {background-color: #d4ebff;}#sk-container-id-1 div.sk-serial::before {content: \"\";position: absolute;border-left: 1px solid gray;box-sizing: border-box;top: 0;bottom: 0;left: 50%;z-index: 0;}#sk-container-id-1 div.sk-serial {display: flex;flex-direction: column;align-items: center;background-color: white;padding-right: 0.2em;padding-left: 0.2em;position: relative;}#sk-container-id-1 div.sk-item {position: relative;z-index: 1;}#sk-container-id-1 div.sk-parallel {display: flex;align-items: stretch;justify-content: center;background-color: white;position: relative;}#sk-container-id-1 div.sk-item::before, #sk-container-id-1 div.sk-parallel-item::before {content: \"\";position: absolute;border-left: 1px solid gray;box-sizing: border-box;top: 0;bottom: 0;left: 50%;z-index: -1;}#sk-container-id-1 div.sk-parallel-item {display: flex;flex-direction: column;z-index: 1;position: relative;background-color: white;}#sk-container-id-1 div.sk-parallel-item:first-child::after {align-self: flex-end;width: 50%;}#sk-container-id-1 div.sk-parallel-item:last-child::after {align-self: flex-start;width: 50%;}#sk-container-id-1 div.sk-parallel-item:only-child::after {width: 0;}#sk-container-id-1 div.sk-dashed-wrapped {border: 1px dashed gray;margin: 0 0.4em 0.5em 0.4em;box-sizing: border-box;padding-bottom: 0.4em;background-color: white;}#sk-container-id-1 div.sk-label label {font-family: monospace;font-weight: bold;display: inline-block;line-height: 1.2em;}#sk-container-id-1 div.sk-label-container {text-align: center;}#sk-container-id-1 div.sk-container {/* jupyter's `normalize.less` sets `[hidden] { display: none; }` but bootstrap.min.css set `[hidden] { display: none !important; }` so we also need the `!important` here to be able to override the default hidden behavior on the sphinx rendered scikit-learn.org. See: https://github.com/scikit-learn/scikit-learn/issues/21755 */display: inline-block !important;position: relative;}#sk-container-id-1 div.sk-text-repr-fallback {display: none;}</style><div id=\"sk-container-id-1\" class=\"sk-top-container\"><div class=\"sk-text-repr-fallback\"><pre>RandomForestClassifier(max_features=40, n_estimators=500, random_state=123)</pre><b>In a Jupyter environment, please rerun this cell to show the HTML representation or trust the notebook. <br />On GitHub, the HTML representation is unable to render, please try loading this page with nbviewer.org.</b></div><div class=\"sk-container\" hidden><div class=\"sk-item\"><div class=\"sk-estimator sk-toggleable\"><input class=\"sk-toggleable__control sk-hidden--visually\" id=\"sk-estimator-id-1\" type=\"checkbox\" checked><label for=\"sk-estimator-id-1\" class=\"sk-toggleable__label sk-toggleable__label-arrow\">RandomForestClassifier</label><div class=\"sk-toggleable__content\"><pre>RandomForestClassifier(max_features=40, n_estimators=500, random_state=123)</pre></div></div></div></div></div>"
      ],
      "text/plain": [
       "RandomForestClassifier(max_features=40, n_estimators=500, random_state=123)"
      ]
     },
     "execution_count": 10,
     "metadata": {},
     "output_type": "execute_result"
    }
   ],
   "source": [
    "rf2 = RandomForestClassifier(criterion= 'gini',\n",
    " max_features= 40,\n",
    " n_estimators= 500,\n",
    " random_state= 123)\n",
    "rf2.fit(X_train_scaled_pca, train_y_scale)"
   ]
  },
  {
   "cell_type": "code",
   "execution_count": 11,
   "id": "293449d2",
   "metadata": {},
   "outputs": [],
   "source": [
    "pred_y_rf3 = rf2.predict(X_test_scaled_pca)"
   ]
  },
  {
   "cell_type": "code",
   "execution_count": 12,
   "id": "249c938b",
   "metadata": {},
   "outputs": [
    {
     "name": "stdout",
     "output_type": "stream",
     "text": [
      "The ROC is 0.7010733452593918\n"
     ]
    }
   ],
   "source": [
    "# Calculate ROC\n",
    "print('The ROC is',metrics.roc_auc_score(test_y_scale, pred_y_rf3))"
   ]
  },
  {
   "cell_type": "markdown",
   "id": "431470d1",
   "metadata": {},
   "source": [
    "## Test"
   ]
  },
  {
   "cell_type": "code",
   "execution_count": 13,
   "id": "87a027ba",
   "metadata": {},
   "outputs": [],
   "source": [
    "# 25-75% simple split\n",
    "# To make the result reproducible, set the random_state\n",
    "\n",
    "Xt = df_test.drop('accept', axis=1)\n",
    "\n",
    "yt = df_test['accept'].copy()\n",
    "\n",
    "train_yt,test_yt,train_Xt,test_Xt = train_test_split(yt, Xt,\n",
    "                                                 test_size=0.25,\n",
    "                                                 random_state=123)\n",
    "scaler = preprocessing.MinMaxScaler().fit(train_Xt)\n",
    "X_train_scaledt = pd.DataFrame(scaler.transform(train_Xt),columns=train_Xt.columns)\n",
    "X_test_scaledt = pd.DataFrame(scaler.transform(test_Xt),columns=train_Xt.columns)\n",
    "train_scale_yt = preprocessing.MinMaxScaler().fit(train_yt.values.reshape(-1,1).astype(float))\n",
    "train_y_scalet = train_scale_yt.transform(train_yt.values.reshape(-1,1))\n",
    "train_y_scalet = pd.Series(train_y_scalet.reshape(train_yt.shape[0],))\n",
    "test_y_scalet = train_scale_yt.transform(test_yt.values.reshape(-1,1))\n",
    "test_y_scalet = pd.Series(test_y_scalet.reshape(test_yt.shape[0],))"
   ]
  },
  {
   "cell_type": "code",
   "execution_count": 14,
   "id": "ecc0abbc",
   "metadata": {},
   "outputs": [],
   "source": [
    "pca30.fit(X_train_scaledt)\n",
    "\n",
    "pcat = PCA(n_components=30)\n",
    "pca.fit(X_train_scaledt)\n",
    "X_train_scaled_pcat = pca.transform(X_train_scaledt)\n",
    "X_test_scaled_pcat = pca.transform(X_test_scaledt)"
   ]
  },
  {
   "cell_type": "code",
   "execution_count": 15,
   "id": "09cd6bf8",
   "metadata": {},
   "outputs": [
    {
     "data": {
      "text/html": [
       "<style>#sk-container-id-2 {color: black;background-color: white;}#sk-container-id-2 pre{padding: 0;}#sk-container-id-2 div.sk-toggleable {background-color: white;}#sk-container-id-2 label.sk-toggleable__label {cursor: pointer;display: block;width: 100%;margin-bottom: 0;padding: 0.3em;box-sizing: border-box;text-align: center;}#sk-container-id-2 label.sk-toggleable__label-arrow:before {content: \"▸\";float: left;margin-right: 0.25em;color: #696969;}#sk-container-id-2 label.sk-toggleable__label-arrow:hover:before {color: black;}#sk-container-id-2 div.sk-estimator:hover label.sk-toggleable__label-arrow:before {color: black;}#sk-container-id-2 div.sk-toggleable__content {max-height: 0;max-width: 0;overflow: hidden;text-align: left;background-color: #f0f8ff;}#sk-container-id-2 div.sk-toggleable__content pre {margin: 0.2em;color: black;border-radius: 0.25em;background-color: #f0f8ff;}#sk-container-id-2 input.sk-toggleable__control:checked~div.sk-toggleable__content {max-height: 200px;max-width: 100%;overflow: auto;}#sk-container-id-2 input.sk-toggleable__control:checked~label.sk-toggleable__label-arrow:before {content: \"▾\";}#sk-container-id-2 div.sk-estimator input.sk-toggleable__control:checked~label.sk-toggleable__label {background-color: #d4ebff;}#sk-container-id-2 div.sk-label input.sk-toggleable__control:checked~label.sk-toggleable__label {background-color: #d4ebff;}#sk-container-id-2 input.sk-hidden--visually {border: 0;clip: rect(1px 1px 1px 1px);clip: rect(1px, 1px, 1px, 1px);height: 1px;margin: -1px;overflow: hidden;padding: 0;position: absolute;width: 1px;}#sk-container-id-2 div.sk-estimator {font-family: monospace;background-color: #f0f8ff;border: 1px dotted black;border-radius: 0.25em;box-sizing: border-box;margin-bottom: 0.5em;}#sk-container-id-2 div.sk-estimator:hover {background-color: #d4ebff;}#sk-container-id-2 div.sk-parallel-item::after {content: \"\";width: 100%;border-bottom: 1px solid gray;flex-grow: 1;}#sk-container-id-2 div.sk-label:hover label.sk-toggleable__label {background-color: #d4ebff;}#sk-container-id-2 div.sk-serial::before {content: \"\";position: absolute;border-left: 1px solid gray;box-sizing: border-box;top: 0;bottom: 0;left: 50%;z-index: 0;}#sk-container-id-2 div.sk-serial {display: flex;flex-direction: column;align-items: center;background-color: white;padding-right: 0.2em;padding-left: 0.2em;position: relative;}#sk-container-id-2 div.sk-item {position: relative;z-index: 1;}#sk-container-id-2 div.sk-parallel {display: flex;align-items: stretch;justify-content: center;background-color: white;position: relative;}#sk-container-id-2 div.sk-item::before, #sk-container-id-2 div.sk-parallel-item::before {content: \"\";position: absolute;border-left: 1px solid gray;box-sizing: border-box;top: 0;bottom: 0;left: 50%;z-index: -1;}#sk-container-id-2 div.sk-parallel-item {display: flex;flex-direction: column;z-index: 1;position: relative;background-color: white;}#sk-container-id-2 div.sk-parallel-item:first-child::after {align-self: flex-end;width: 50%;}#sk-container-id-2 div.sk-parallel-item:last-child::after {align-self: flex-start;width: 50%;}#sk-container-id-2 div.sk-parallel-item:only-child::after {width: 0;}#sk-container-id-2 div.sk-dashed-wrapped {border: 1px dashed gray;margin: 0 0.4em 0.5em 0.4em;box-sizing: border-box;padding-bottom: 0.4em;background-color: white;}#sk-container-id-2 div.sk-label label {font-family: monospace;font-weight: bold;display: inline-block;line-height: 1.2em;}#sk-container-id-2 div.sk-label-container {text-align: center;}#sk-container-id-2 div.sk-container {/* jupyter's `normalize.less` sets `[hidden] { display: none; }` but bootstrap.min.css set `[hidden] { display: none !important; }` so we also need the `!important` here to be able to override the default hidden behavior on the sphinx rendered scikit-learn.org. See: https://github.com/scikit-learn/scikit-learn/issues/21755 */display: inline-block !important;position: relative;}#sk-container-id-2 div.sk-text-repr-fallback {display: none;}</style><div id=\"sk-container-id-2\" class=\"sk-top-container\"><div class=\"sk-text-repr-fallback\"><pre>RandomForestClassifier(max_features=40, n_estimators=500, random_state=123)</pre><b>In a Jupyter environment, please rerun this cell to show the HTML representation or trust the notebook. <br />On GitHub, the HTML representation is unable to render, please try loading this page with nbviewer.org.</b></div><div class=\"sk-container\" hidden><div class=\"sk-item\"><div class=\"sk-estimator sk-toggleable\"><input class=\"sk-toggleable__control sk-hidden--visually\" id=\"sk-estimator-id-2\" type=\"checkbox\" checked><label for=\"sk-estimator-id-2\" class=\"sk-toggleable__label sk-toggleable__label-arrow\">RandomForestClassifier</label><div class=\"sk-toggleable__content\"><pre>RandomForestClassifier(max_features=40, n_estimators=500, random_state=123)</pre></div></div></div></div></div>"
      ],
      "text/plain": [
       "RandomForestClassifier(max_features=40, n_estimators=500, random_state=123)"
      ]
     },
     "execution_count": 15,
     "metadata": {},
     "output_type": "execute_result"
    }
   ],
   "source": [
    "rft = RandomForestClassifier(criterion= 'gini',\n",
    " max_features= 40,\n",
    " n_estimators= 500,\n",
    " random_state= 123)\n",
    "rft.fit(X_train_scaled_pcat, train_y_scalet)"
   ]
  },
  {
   "cell_type": "code",
   "execution_count": 16,
   "id": "b517fdcf",
   "metadata": {},
   "outputs": [],
   "source": [
    "pred_y_rft = rft.predict(X_test_scaled_pcat)"
   ]
  },
  {
   "cell_type": "code",
   "execution_count": 17,
   "id": "38d5b5e0",
   "metadata": {},
   "outputs": [
    {
     "name": "stdout",
     "output_type": "stream",
     "text": [
      "The ROC is 0.7414014113107931\n"
     ]
    }
   ],
   "source": [
    "# Calculate ROC \n",
    "print('The ROC is', metrics.roc_auc_score(test_y_scalet, pred_y_rft))"
   ]
  }
 ],
 "metadata": {
  "kernelspec": {
   "display_name": "Python 3 (ipykernel)",
   "language": "python",
   "name": "python3"
  },
  "language_info": {
   "codemirror_mode": {
    "name": "ipython",
    "version": 3
   },
   "file_extension": ".py",
   "mimetype": "text/x-python",
   "name": "python",
   "nbconvert_exporter": "python",
   "pygments_lexer": "ipython3",
   "version": "3.10.6"
  }
 },
 "nbformat": 4,
 "nbformat_minor": 5
}
