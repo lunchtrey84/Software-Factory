{
 "cells": [
  {
   "cell_type": "code",
   "execution_count": 3,
   "id": "858eba0b",
   "metadata": {},
   "outputs": [],
   "source": [
    "import requests\n",
    "import pandas as pd\n",
    "from datetime import datetime"
   ]
  },
  {
   "cell_type": "code",
   "execution_count": 2,
   "id": "a8295d39",
   "metadata": {},
   "outputs": [
    {
     "name": "stdout",
     "output_type": "stream",
     "text": [
      "The current price of Bitcoin is $56152.39674609422\n"
     ]
    }
   ],
   "source": [
    "import requests\n",
    "\n",
    "url = 'https://pro-api.coinmarketcap.com/v1/cryptocurrency/quotes/latest'\n",
    "parameters = {\n",
    "    'symbol': 'BTC'\n",
    "}\n",
    "headers = {\n",
    "    'Accepts': 'application/json',\n",
    "    'X-CMC_PRO_API_KEY': '7763d997-e823-405e-8a5a-4f7ef7bc9473'\n",
    "}\n",
    "\n",
    "response = requests.get(url, headers=headers, params=parameters)\n",
    "\n",
    "data = response.json()\n",
    "price = data['data']['BTC']['quote']['USD']['price']\n",
    "\n",
    "print('The current price of Bitcoin is $' + str(price))\n"
   ]
  }
 ],
 "metadata": {
  "kernelspec": {
   "display_name": "Python 3 (ipykernel)",
   "language": "python",
   "name": "python3"
  },
  "language_info": {
   "codemirror_mode": {
    "name": "ipython",
    "version": 3
   },
   "file_extension": ".py",
   "mimetype": "text/x-python",
   "name": "python",
   "nbconvert_exporter": "python",
   "pygments_lexer": "ipython3",
   "version": "3.10.6"
  }
 },
 "nbformat": 4,
 "nbformat_minor": 5
}
