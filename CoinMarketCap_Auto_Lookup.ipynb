{
 "cells": [
  {
   "cell_type": "code",
   "execution_count": 16,
   "id": "858eba0b",
   "metadata": {},
   "outputs": [
    {
     "data": {
      "text/html": [
       "<div>\n",
       "<style scoped>\n",
       "    .dataframe tbody tr th:only-of-type {\n",
       "        vertical-align: middle;\n",
       "    }\n",
       "\n",
       "    .dataframe tbody tr th {\n",
       "        vertical-align: top;\n",
       "    }\n",
       "\n",
       "    .dataframe thead th {\n",
       "        text-align: right;\n",
       "    }\n",
       "</style>\n",
       "<table border=\"1\" class=\"dataframe\">\n",
       "  <thead>\n",
       "    <tr style=\"text-align: right;\">\n",
       "      <th></th>\n",
       "      <th>id</th>\n",
       "      <th>start_time</th>\n",
       "      <th>end_time</th>\n",
       "    </tr>\n",
       "  </thead>\n",
       "  <tbody>\n",
       "    <tr>\n",
       "      <th>0</th>\n",
       "      <td>raptoreum</td>\n",
       "      <td>2022-12-31</td>\n",
       "      <td>2022-12-31</td>\n",
       "    </tr>\n",
       "    <tr>\n",
       "      <th>1</th>\n",
       "      <td>flux</td>\n",
       "      <td>2022-12-29</td>\n",
       "      <td>2022-12-29</td>\n",
       "    </tr>\n",
       "    <tr>\n",
       "      <th>2</th>\n",
       "      <td>kaspa</td>\n",
       "      <td>2022-12-29</td>\n",
       "      <td>2022-12-29</td>\n",
       "    </tr>\n",
       "    <tr>\n",
       "      <th>3</th>\n",
       "      <td>raptoreum</td>\n",
       "      <td>2022-12-29</td>\n",
       "      <td>2022-12-29</td>\n",
       "    </tr>\n",
       "    <tr>\n",
       "      <th>4</th>\n",
       "      <td>flux</td>\n",
       "      <td>2022-12-29</td>\n",
       "      <td>2022-12-29</td>\n",
       "    </tr>\n",
       "  </tbody>\n",
       "</table>\n",
       "</div>"
      ],
      "text/plain": [
       "          id  start_time    end_time\n",
       "0  raptoreum  2022-12-31  2022-12-31\n",
       "1       flux  2022-12-29  2022-12-29\n",
       "2      kaspa  2022-12-29  2022-12-29\n",
       "3  raptoreum  2022-12-29  2022-12-29\n",
       "4       flux  2022-12-29  2022-12-29"
      ]
     },
     "execution_count": 16,
     "metadata": {},
     "output_type": "execute_result"
    }
   ],
   "source": [
    "import requests\n",
    "import pandas as pd\n",
    "from datetime import datetime\n",
    "\n",
    "# read the transactions dataframe\n",
    "df_transactions = pd.read_csv('transactions.csv')\n",
    "\n",
    "df_transactions.head()"
   ]
  },
  {
   "cell_type": "code",
   "execution_count": 17,
   "id": "5b4cfc84",
   "metadata": {},
   "outputs": [
    {
     "data": {
      "text/html": [
       "<div>\n",
       "<style scoped>\n",
       "    .dataframe tbody tr th:only-of-type {\n",
       "        vertical-align: middle;\n",
       "    }\n",
       "\n",
       "    .dataframe tbody tr th {\n",
       "        vertical-align: top;\n",
       "    }\n",
       "\n",
       "    .dataframe thead th {\n",
       "        text-align: right;\n",
       "    }\n",
       "</style>\n",
       "<table border=\"1\" class=\"dataframe\">\n",
       "  <thead>\n",
       "    <tr style=\"text-align: right;\">\n",
       "      <th></th>\n",
       "      <th>id</th>\n",
       "      <th>start_time</th>\n",
       "      <th>end_time</th>\n",
       "    </tr>\n",
       "  </thead>\n",
       "  <tbody>\n",
       "    <tr>\n",
       "      <th>0</th>\n",
       "      <td>raptoreum</td>\n",
       "      <td>2022-12-31</td>\n",
       "      <td>2022-12-31</td>\n",
       "    </tr>\n",
       "    <tr>\n",
       "      <th>1</th>\n",
       "      <td>flux</td>\n",
       "      <td>2022-12-29</td>\n",
       "      <td>2022-12-29</td>\n",
       "    </tr>\n",
       "    <tr>\n",
       "      <th>2</th>\n",
       "      <td>kaspa</td>\n",
       "      <td>2022-12-29</td>\n",
       "      <td>2022-12-29</td>\n",
       "    </tr>\n",
       "    <tr>\n",
       "      <th>3</th>\n",
       "      <td>raptoreum</td>\n",
       "      <td>2022-12-29</td>\n",
       "      <td>2022-12-29</td>\n",
       "    </tr>\n",
       "    <tr>\n",
       "      <th>4</th>\n",
       "      <td>flux</td>\n",
       "      <td>2022-12-29</td>\n",
       "      <td>2022-12-29</td>\n",
       "    </tr>\n",
       "  </tbody>\n",
       "</table>\n",
       "</div>"
      ],
      "text/plain": [
       "          id  start_time    end_time\n",
       "0  raptoreum  2022-12-31  2022-12-31\n",
       "1       flux  2022-12-29  2022-12-29\n",
       "2      kaspa  2022-12-29  2022-12-29\n",
       "3  raptoreum  2022-12-29  2022-12-29\n",
       "4       flux  2022-12-29  2022-12-29"
      ]
     },
     "execution_count": 17,
     "metadata": {},
     "output_type": "execute_result"
    }
   ],
   "source": [
    "df_transactions.head()"
   ]
  },
  {
   "cell_type": "code",
   "execution_count": null,
   "id": "79435ab5",
   "metadata": {},
   "outputs": [],
   "source": [
    "import pandas as pd\n",
    "from datetime import datetime\n",
    "\n",
    "def convert_dates(file_path):\n",
    "    # Read the CSV file into a DataFrame\n",
    "    df = pd.read_csv('transactions.csv')\n",
    "\n",
    "    # Define a function to convert a single timestamp string to the desired format\n",
    "    def convert_to_date(timestamp_str):\n",
    "        # Check if the string is already in the correct format\n",
    "        if len(timestamp_str) == 10:\n",
    "            return timestamp_str\n",
    "        # Convert the string to a datetime object and then to the desired format\n",
    "        datetime_obj = datetime.strptime(timestamp_str, '%Y-%m-%d %H:%M:%S')\n",
    "        date_str = datetime_obj.strftime('%m-%d-%Y')\n",
    "        return date_str\n",
    "\n",
    "    # Convert the start_time and end_time columns to the desired format\n",
    "    df[['start_time', 'end_time']] = df[['start_time', 'end_time']].apply(lambda x: convert_to_date(x), axis=1)\n",
    "\n",
    "    # Return the resulting DataFrame\n",
    "    return df"
   ]
  },
  {
   "cell_type": "code",
   "execution_count": null,
   "id": "f64fae5d",
   "metadata": {},
   "outputs": [],
   "source": []
  },
  {
   "cell_type": "code",
   "execution_count": null,
   "id": "d3c69120",
   "metadata": {},
   "outputs": [],
   "source": []
  },
  {
   "cell_type": "code",
   "execution_count": 16,
   "id": "5cff8ab3",
   "metadata": {},
   "outputs": [
    {
     "name": "stdout",
     "output_type": "stream",
     "text": [
      "Enter coin ID: BTC\n",
      "Enter date (in format yyyy-mm-dd): 2023-03-13\n",
      "Error: Request failed with status code 404\n"
     ]
    }
   ],
   "source": [
    "import requests\n",
    "\n",
    "# Get user input for coin ID\n",
    "coin_id = input(\"Enter coin ID: \")\n",
    "date = input(\"Enter date (in format yyyy-mm-dd): \")\n",
    "\n",
    "# Define API endpoint and parameters\n",
    "url = f\"https://api.coingecko.com/api/v3/coins/{coin_id}\"\n",
    "params = {\n",
    "    \"localization\": False,\n",
    "    \"tickers\": False,\n",
    "    \"market_data\": True,\n",
    "    \"community_data\": False,\n",
    "    \"developer_data\": False,\n",
    "    \"sparkline\": False,\n",
    "}\n",
    "\n",
    "# Make API request\n",
    "response = requests.get(url, params=params)\n",
    "\n",
    "# Check if request was successful\n",
    "if response.status_code == 200:\n",
    "    # Extract relevant information from response\n",
    "    data = response.json()\n",
    "    name = data[\"name\"]\n",
    "    symbol = data[\"symbol\"]\n",
    "    price = data[\"market_data\"][\"current_price\"][\"usd\"]\n",
    "    print(f\"Coin Name: {name}\")\n",
    "    print(f\"Symbol: {symbol}\")\n",
    "    print(f\"Price on {date}: ${price}\")\n",
    "else:\n",
    "    print(f\"Error: Request failed with status code {response.status_code}\")\n"
   ]
  },
  {
   "cell_type": "code",
   "execution_count": 2,
   "id": "a8295d39",
   "metadata": {},
   "outputs": [
    {
     "name": "stdout",
     "output_type": "stream",
     "text": [
      "The current price of Bitcoin is $43447.35322306848\n"
     ]
    }
   ],
   "source": [
    "import requests\n",
    "\n",
    "url = 'https://pro-api.coinmarketcap.com/v1/cryptocurrency/quotes/latest'\n",
    "parameters = {\n",
    "    'symbol': 'BTC'\n",
    "}\n",
    "headers = {\n",
    "    'Accepts': 'application/json',\n",
    "    'X-CMC_PRO_API_KEY': '7763d997-e823-405e-8a5a-4f7ef7bc9473'\n",
    "}\n",
    "\n",
    "response = requests.get(url, headers=headers, params=parameters)\n",
    "\n",
    "data = response.json()\n",
    "price = data['data']['BTC']['quote']['USD']['price']\n",
    "\n",
    "print('The current price of Bitcoin is $' + str(price))\n"
   ]
  },
  {
   "cell_type": "code",
   "execution_count": null,
   "id": "223206bb",
   "metadata": {},
   "outputs": [],
   "source": []
  },
  {
   "cell_type": "code",
   "execution_count": 7,
   "id": "04a7b4fb",
   "metadata": {},
   "outputs": [
    {
     "name": "stdout",
     "output_type": "stream",
     "text": [
      "Enter coin ID: btc\n",
      "Enter date (in format yyyy-mm-dd): 2023-03-13\n",
      "Error: Request failed with status code 401\n"
     ]
    }
   ],
   "source": [
    "import requests\n",
    "\n",
    "# Get user input for coin ID\n",
    "coin_id = input(\"Enter coin ID: \")\n",
    "date = input(\"Enter date (in format yyyy-mm-dd): \")\n",
    "\n",
    "# Define API endpoint and parameters\n",
    "url = f\"https://sandbox-api.coinmarketcap.com/v1/cryptocurrency/listings/latest\"\n",
    "params = {\n",
    "    \"localization\": False,\n",
    "    \"tickers\": False,\n",
    "    \"market_data\": True,\n",
    "    \"community_data\": False,\n",
    "    \"developer_data\": False,\n",
    "    \"sparkline\": False,\n",
    "}\n",
    "\n",
    "# Make API request\n",
    "response = requests.get(url, params=params)\n",
    "\n",
    "# Check if request was successful\n",
    "if response.status_code == 200:\n",
    "    # Extract relevant information from response\n",
    "    data = response.json()\n",
    "    name = data[\"name\"]\n",
    "    symbol = data[\"symbol\"]\n",
    "    price = data[\"market_data\"][\"current_price\"][\"usd\"]\n",
    "    print(f\"Coin Name: {name}\")\n",
    "    print(f\"Symbol: {symbol}\")\n",
    "    print(f\"Price on {date}: ${price}\")\n",
    "else:\n",
    "    print(f\"Error: Request failed with status code {response.status_code}\")"
   ]
  },
  {
   "cell_type": "code",
   "execution_count": null,
   "id": "ed4ed440",
   "metadata": {},
   "outputs": [],
   "source": []
  },
  {
   "cell_type": "code",
   "execution_count": 15,
   "id": "7d0d32e6",
   "metadata": {},
   "outputs": [
    {
     "name": "stdout",
     "output_type": "stream",
     "text": [
      "Enter coin ID: 1\n",
      "Enter date (in format yyyy-mm-dd): 2023-03-13\n",
      "Coin Name: t8ohzk35ryo\n",
      "Symbol: o3wm0ewbi0n\n",
      "Price on 2023-03-13: $0.6333034052358844\n"
     ]
    }
   ],
   "source": [
    "import requests\n",
    "\n",
    "# Get user input for coin ID\n",
    "coin_id = input(\"Enter coin ID: \")\n",
    "date = input(\"Enter date (in format yyyy-mm-dd): \")\n",
    "\n",
    "# Define API endpoint and parameters\n",
    "url = \"https://sandbox-api.coinmarketcap.com/v1/cryptocurrency/listings/latest\"\n",
    "params = {\n",
    "    \n",
    "    \n",
    "}\n",
    "\n",
    "# Replace 'YOUR_API_KEY' with your actual CoinMarketCap API key\n",
    "headers = {\n",
    "    'X-CMC_PRO_API_KEY': '7763d997-e823-405e-8a5a-4f7ef7bc9473',\n",
    "}\n",
    "\n",
    "# Make API request\n",
    "response = requests.get(url, params=params, headers=headers)\n",
    "\n",
    "# Check if request was successful\n",
    "if response.status_code == 200:\n",
    "    # Extract relevant information from response\n",
    "    data = response.json()\n",
    "    name = data[\"data\"][0][\"name\"]  # Note: Data is usually a list, adjust accordingly\n",
    "    symbol = data[\"data\"][0][\"symbol\"]\n",
    "    price = data[\"data\"][0][\"quote\"][\"USD\"][\"price\"]\n",
    "    print(f\"Coin Name: {name}\")\n",
    "    print(f\"Symbol: {symbol}\")\n",
    "    print(f\"Price on {date}: ${price}\")\n",
    "else:\n",
    "    print(f\"Error: Request failed with status code {response.status_code}\")\n",
    "    print(response.text)  # Print the response content for debugging\n"
   ]
  },
  {
   "cell_type": "code",
   "execution_count": null,
   "id": "bd7e742a",
   "metadata": {},
   "outputs": [],
   "source": []
  }
 ],
 "metadata": {
  "kernelspec": {
   "display_name": "Python 3 (ipykernel)",
   "language": "python",
   "name": "python3"
  },
  "language_info": {
   "codemirror_mode": {
    "name": "ipython",
    "version": 3
   },
   "file_extension": ".py",
   "mimetype": "text/x-python",
   "name": "python",
   "nbconvert_exporter": "python",
   "pygments_lexer": "ipython3",
   "version": "3.10.6"
  }
 },
 "nbformat": 4,
 "nbformat_minor": 5
}
